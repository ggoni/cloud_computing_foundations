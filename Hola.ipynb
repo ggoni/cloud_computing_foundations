{
  "nbformat": 4,
  "nbformat_minor": 0,
  "metadata": {
    "colab": {
      "provenance": []
    },
    "kernelspec": {
      "name": "python3",
      "display_name": "Python 3"
    },
    "language_info": {
      "name": "python"
    }
  },
  "cells": [
    {
      "cell_type": "markdown",
      "source": [
        "# This is a just a test"
      ],
      "metadata": {
        "id": "2JhAWXJn5N6z"
      }
    },
    {
      "cell_type": "markdown",
      "source": [
        "### Now some code\n",
        "\n",
        "We have to practice"
      ],
      "metadata": {
        "id": "P0oDKSHY5VCd"
      }
    },
    {
      "cell_type": "code",
      "source": [
        "print(\"Hello world\")"
      ],
      "metadata": {
        "colab": {
          "base_uri": "https://localhost:8080/"
        },
        "id": "oaSb6fxX5ZOm",
        "outputId": "6690a961-166e-4972-c90a-22df6a82ffb6"
      },
      "execution_count": 2,
      "outputs": [
        {
          "output_type": "stream",
          "name": "stdout",
          "text": [
            "Hello world\n"
          ]
        }
      ]
    },
    {
      "cell_type": "code",
      "source": [],
      "metadata": {
        "id": "33-KbC665c5G"
      },
      "execution_count": null,
      "outputs": []
    }
  ]
}